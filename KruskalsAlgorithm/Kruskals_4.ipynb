{
  "nbformat": 4,
  "nbformat_minor": 0,
  "metadata": {
    "colab": {
      "provenance": []
    },
    "kernelspec": {
      "name": "python3",
      "display_name": "Python 3"
    },
    "language_info": {
      "name": "python"
    }
  },
  "cells": [
    {
      "cell_type": "code",
      "execution_count": null,
      "metadata": {
        "id": "SmbJph4wM0Z3"
      },
      "outputs": [],
      "source": [
        "from geopy.geocoders import Nominatim\n",
        "from geopy.distance import geodesic as GD\n",
        "\n",
        "geolocator = Nominatim(user_agent=\"primsAlgo\")\n",
        "list=[\"Nagpur\",\"Mumbai\",\"Nashik\",\"Pune\"]"
      ]
    },
    {
      "cell_type": "code",
      "source": [
        "city=[]\n",
        "latitude=[]\n",
        "longitude=[]\n",
        "for i in range(4):\n",
        "  location = geolocator.geocode(list[i])\n",
        "  latitude.append(location.latitude)\n",
        "  longitude.append(location.longitude)\n",
        "for j in range(4):\n",
        "  city.append((latitude[j], longitude[j]))"
      ],
      "metadata": {
        "id": "xVsSkJN0M4o9"
      },
      "execution_count": null,
      "outputs": []
    },
    {
      "cell_type": "code",
      "source": [
        "latitude"
      ],
      "metadata": {
        "colab": {
          "base_uri": "https://localhost:8080/"
        },
        "id": "xmfy1UZdM_Vk",
        "outputId": "297945d3-913c-4d78-da6f-dfba601ab920"
      },
      "execution_count": null,
      "outputs": [
        {
          "output_type": "execute_result",
          "data": {
            "text/plain": [
              "[21.1498134, 18.9733536, 20.0112475, 18.521428]"
            ]
          },
          "metadata": {},
          "execution_count": 36
        }
      ]
    },
    {
      "cell_type": "code",
      "source": [
        "longitude"
      ],
      "metadata": {
        "colab": {
          "base_uri": "https://localhost:8080/"
        },
        "id": "oMesaGkJNDbg",
        "outputId": "ad3d7474-7409-48b5-97be-2f00a13036b0"
      },
      "execution_count": null,
      "outputs": [
        {
          "output_type": "execute_result",
          "data": {
            "text/plain": [
              "[79.0820556, 72.82810491917377, 73.7902364, 73.8544541]"
            ]
          },
          "metadata": {},
          "execution_count": 37
        }
      ]
    },
    {
      "cell_type": "code",
      "source": [
        "city"
      ],
      "metadata": {
        "colab": {
          "base_uri": "https://localhost:8080/"
        },
        "id": "Xf6emHObNJQH",
        "outputId": "a197cd24-029a-4604-96d8-80609de7a8b8"
      },
      "execution_count": null,
      "outputs": [
        {
          "output_type": "execute_result",
          "data": {
            "text/plain": [
              "[(21.1498134, 79.0820556),\n",
              " (18.9733536, 72.82810491917377),\n",
              " (20.0112475, 73.7902364),\n",
              " (18.521428, 73.8544541)]"
            ]
          },
          "metadata": {},
          "execution_count": 40
        }
      ]
    },
    {
      "cell_type": "code",
      "source": [
        "import numpy as np\n",
        "Out=[]\n",
        "for i in range(4):\n",
        "  dist=[]\n",
        "  for j in range(4):\n",
        "    d=(GD(city[i],city[j]).miles)\n",
        "    dist.append(d)\n",
        "  Out.append(dist)\n",
        "# Creating NumPy array\n",
        "arr = np.array(Out)\n",
        "\n",
        "# Reshaping array to n x m matrix\n",
        "res = arr.reshape(4, 4)\n",
        "\n",
        "# printing result\n",
        "print(\"Constructed Matrix : \\n\" + str(res))"
      ],
      "metadata": {
        "colab": {
          "base_uri": "https://localhost:8080/"
        },
        "id": "TC29POOtNNAR",
        "outputId": "7bc47a2a-1ebd-4ff8-cc90-193223ef0b1f"
      },
      "execution_count": null,
      "outputs": [
        {
          "output_type": "stream",
          "name": "stdout",
          "text": [
            "Constructed Matrix : \n",
            "[[  0.         433.14254286 351.63117602 385.27630868]\n",
            " [433.14254286   0.          95.05472496  74.08556961]\n",
            " [351.63117602  95.05472496   0.         102.55989455]\n",
            " [385.27630868  74.08556961 102.55989455   0.        ]]\n"
          ]
        }
      ]
    },
    {
      "cell_type": "code",
      "source": [
        "Out"
      ],
      "metadata": {
        "colab": {
          "base_uri": "https://localhost:8080/"
        },
        "id": "vfBs80AsNNG2",
        "outputId": "0371c14a-527a-49f0-e557-0bc3019f6cdc"
      },
      "execution_count": null,
      "outputs": [
        {
          "output_type": "execute_result",
          "data": {
            "text/plain": [
              "[[0.0, 433.1425428591388, 351.63117601750474, 385.2763086761522],\n",
              " [433.1425428591388, 0.0, 95.05472496111854, 74.08556960975572],\n",
              " [351.63117601750474, 95.05472496111854, 0.0, 102.55989455322408],\n",
              " [385.2763086761522, 74.08556960975572, 102.55989455322408, 0.0]]"
            ]
          },
          "metadata": {},
          "execution_count": 42
        }
      ]
    },
    {
      "cell_type": "code",
      "source": [
        "import numpy as np"
      ],
      "metadata": {
        "id": "6kdq60spNacW"
      },
      "execution_count": null,
      "outputs": []
    },
    {
      "cell_type": "code",
      "source": [
        "cost=res\n",
        "print(cost)\n",
        "cost = cost.astype(np.int32)\n",
        "print(cost)"
      ],
      "metadata": {
        "colab": {
          "base_uri": "https://localhost:8080/"
        },
        "id": "w5B6RibFNap2",
        "outputId": "9d1f8489-490f-4bf3-ad8e-eed706c63ad1"
      },
      "execution_count": null,
      "outputs": [
        {
          "output_type": "stream",
          "name": "stdout",
          "text": [
            "[[  0.         433.14254286 351.63117602 385.27630868]\n",
            " [433.14254286   0.          95.05472496  74.08556961]\n",
            " [351.63117602  95.05472496   0.         102.55989455]\n",
            " [385.27630868  74.08556961 102.55989455   0.        ]]\n",
            "[[  0 433 351 385]\n",
            " [433   0  95  74]\n",
            " [351  95   0 102]\n",
            " [385  74 102   0]]\n"
          ]
        }
      ]
    },
    {
      "cell_type": "code",
      "source": [
        "n=4"
      ],
      "metadata": {
        "id": "DaoL-tGEUDaJ"
      },
      "execution_count": null,
      "outputs": []
    },
    {
      "cell_type": "code",
      "source": [
        "edges = []\n",
        "print(edges)"
      ],
      "metadata": {
        "colab": {
          "base_uri": "https://localhost:8080/"
        },
        "id": "Mvog1pyIUFVl",
        "outputId": "60573362-2286-4ab3-8a62-cf29b34de602"
      },
      "execution_count": null,
      "outputs": [
        {
          "output_type": "stream",
          "name": "stdout",
          "text": [
            "[]\n"
          ]
        }
      ]
    },
    {
      "cell_type": "code",
      "source": [
        "for i in range(n):\n",
        "    for j in range(n):\n",
        "        if i<j:\n",
        "            edges.append([i,j,cost[i][j]])\n",
        "print(edges)"
      ],
      "metadata": {
        "colab": {
          "base_uri": "https://localhost:8080/"
        },
        "id": "RreDBm0jUFbb",
        "outputId": "b991523b-80ef-4a58-9c9b-8d21466944c5"
      },
      "execution_count": null,
      "outputs": [
        {
          "output_type": "stream",
          "name": "stdout",
          "text": [
            "[[0, 1, 433], [0, 2, 351], [0, 3, 385], [1, 2, 95], [1, 3, 74], [2, 3, 102]]\n"
          ]
        }
      ]
    },
    {
      "cell_type": "code",
      "source": [
        "edges = np.array(edges)"
      ],
      "metadata": {
        "id": "ElOF6faNW8c3"
      },
      "execution_count": null,
      "outputs": []
    },
    {
      "cell_type": "code",
      "source": [
        "edges = edges[edges[:,2].argsort()]"
      ],
      "metadata": {
        "id": "MuD_18LEXAGs"
      },
      "execution_count": null,
      "outputs": []
    },
    {
      "cell_type": "code",
      "source": [
        "print(edges)"
      ],
      "metadata": {
        "colab": {
          "base_uri": "https://localhost:8080/"
        },
        "id": "9P__usEvXDLb",
        "outputId": "4009c11d-8f37-4feb-8b8d-4b0c4d408d8b"
      },
      "execution_count": null,
      "outputs": [
        {
          "output_type": "stream",
          "name": "stdout",
          "text": [
            "[[  1   3  74]\n",
            " [  1   2  95]\n",
            " [  2   3 102]\n",
            " [  0   2 351]\n",
            " [  0   3 385]\n",
            " [  0   1 433]]\n"
          ]
        }
      ]
    },
    {
      "cell_type": "code",
      "source": [
        "def findParent(u,parent):\n",
        "  if parent[u-1] == -1:\n",
        "    return u-1\n",
        "  return findParent(parent[u-1],parent)"
      ],
      "metadata": {
        "id": "DEgzI_vMXGqz"
      },
      "execution_count": null,
      "outputs": []
    },
    {
      "cell_type": "code",
      "source": [
        "def Union(u,v,parent):\n",
        "  parent[v-1] = u-1\n",
        "  return"
      ],
      "metadata": {
        "id": "Bhd1taTfXKjw"
      },
      "execution_count": null,
      "outputs": []
    },
    {
      "cell_type": "code",
      "source": [
        "t = np.array([[0]*3 for i in range(n-1)])\n",
        "t"
      ],
      "metadata": {
        "colab": {
          "base_uri": "https://localhost:8080/"
        },
        "id": "Rhw3G5upXNvV",
        "outputId": "2f6a90da-5cf3-4217-9d43-dff748906c37"
      },
      "execution_count": null,
      "outputs": [
        {
          "output_type": "execute_result",
          "data": {
            "text/plain": [
              "array([[0, 0, 0],\n",
              "       [0, 0, 0],\n",
              "       [0, 0, 0]])"
            ]
          },
          "metadata": {},
          "execution_count": 65
        }
      ]
    },
    {
      "cell_type": "code",
      "source": [
        "parent = [-1]*n\n",
        "parent\n",
        "edges.shape"
      ],
      "metadata": {
        "colab": {
          "base_uri": "https://localhost:8080/"
        },
        "id": "lEcdAfL5XRH7",
        "outputId": "0c2a5dd0-dd35-439b-b7d5-5919bc82d90b"
      },
      "execution_count": null,
      "outputs": [
        {
          "output_type": "execute_result",
          "data": {
            "text/plain": [
              "(6, 3)"
            ]
          },
          "metadata": {},
          "execution_count": 66
        }
      ]
    },
    {
      "cell_type": "code",
      "source": [
        "def Kruskal(E,n,t):\n",
        "  parent = [-1]*n\n",
        "  i = 0\n",
        "  j = -1 #traversing the edge matrix\n",
        "  mincost = 0\n",
        "  while (i < n-1) and (i < E.shape[0]):\n",
        "    j+=1\n",
        "    u = E[j][0]\n",
        "    v = E[j][1]\n",
        "    p = findParent(E[j][0],parent)\n",
        "    q = findParent(E[j][1],parent)\n",
        "\n",
        "    if p != q:\n",
        "      i+=1\n",
        "      t[i-1][0] = u\n",
        "      t[i-1][1] = v\n",
        "      t[i-1][2] = E[j][2]\n",
        "      mincost+=E[j][2]\n",
        "      Union(u,v,parent)\n",
        "\n",
        "  if i!=n-1:\n",
        "    print(\"No spanning tree\")\n",
        "  else:\n",
        "    print(\"Mincost : \",mincost)\n",
        "    print(t)\n",
        "Kruskal(edges,n,t)"
      ],
      "metadata": {
        "colab": {
          "base_uri": "https://localhost:8080/"
        },
        "id": "fYMhtGW4XRLd",
        "outputId": "5db21f92-292f-4d27-d23f-79358b7a998b"
      },
      "execution_count": null,
      "outputs": [
        {
          "output_type": "stream",
          "name": "stdout",
          "text": [
            "Mincost :  602\n",
            "[[  1   3  74]\n",
            " [  1   2  95]\n",
            " [  0   1 433]]\n"
          ]
        }
      ]
    }
  ]
}