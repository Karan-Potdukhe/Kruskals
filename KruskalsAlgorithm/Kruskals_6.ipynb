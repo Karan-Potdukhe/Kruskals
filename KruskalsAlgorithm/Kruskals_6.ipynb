{
  "nbformat": 4,
  "nbformat_minor": 0,
  "metadata": {
    "colab": {
      "provenance": []
    },
    "kernelspec": {
      "name": "python3",
      "display_name": "Python 3"
    },
    "language_info": {
      "name": "python"
    }
  },
  "cells": [
    {
      "cell_type": "code",
      "execution_count": 1,
      "metadata": {
        "id": "fyCAcIjdpT4v"
      },
      "outputs": [],
      "source": [
        "from geopy.geocoders import Nominatim\n",
        "from geopy.distance import geodesic as GD\n",
        "\n",
        "geolocator = Nominatim(user_agent=\"primsAlgo\")\n",
        "list=[\"Nagpur\",\"Mumbai\",\"Nashik\",\"Pune\",\"Goa\",\"Kolkata\"]"
      ]
    },
    {
      "cell_type": "code",
      "source": [
        "city=[]\n",
        "latitude=[]\n",
        "longitude=[]\n",
        "for i in range(6):\n",
        "  location = geolocator.geocode(list[i])\n",
        "  latitude.append(location.latitude)\n",
        "  longitude.append(location.longitude)\n",
        "for j in range(6):\n",
        "  city.append((latitude[j], longitude[j]))"
      ],
      "metadata": {
        "id": "sXEaXLuBp2X5"
      },
      "execution_count": 2,
      "outputs": []
    },
    {
      "cell_type": "code",
      "source": [
        "latitude"
      ],
      "metadata": {
        "colab": {
          "base_uri": "https://localhost:8080/"
        },
        "id": "CaBbMaMgp3ZK",
        "outputId": "6afc5412-c3d3-4f95-b7e0-6bd756b2ab71"
      },
      "execution_count": 3,
      "outputs": [
        {
          "output_type": "execute_result",
          "data": {
            "text/plain": [
              "[21.1498134, 19.08157715, 20.0112475, 18.521428, 15.3004543, 22.5726459]"
            ]
          },
          "metadata": {},
          "execution_count": 3
        }
      ]
    },
    {
      "cell_type": "code",
      "source": [
        "longitude"
      ],
      "metadata": {
        "colab": {
          "base_uri": "https://localhost:8080/"
        },
        "id": "bn5mxdKWp3sr",
        "outputId": "85926ad1-c098-462a-c6dd-39c7adcc6618"
      },
      "execution_count": 4,
      "outputs": [
        {
          "output_type": "execute_result",
          "data": {
            "text/plain": [
              "[79.0820556, 72.88662753964906, 73.7902364, 73.8544541, 74.0855134, 88.3638953]"
            ]
          },
          "metadata": {},
          "execution_count": 4
        }
      ]
    },
    {
      "cell_type": "code",
      "source": [
        "city"
      ],
      "metadata": {
        "colab": {
          "base_uri": "https://localhost:8080/"
        },
        "id": "80h6GwgBp37P",
        "outputId": "588f593f-4075-47fc-b0a4-c53321608ad9"
      },
      "execution_count": 5,
      "outputs": [
        {
          "output_type": "execute_result",
          "data": {
            "text/plain": [
              "[(21.1498134, 79.0820556),\n",
              " (19.08157715, 72.88662753964906),\n",
              " (20.0112475, 73.7902364),\n",
              " (18.521428, 73.8544541),\n",
              " (15.3004543, 74.0855134),\n",
              " (22.5726459, 88.3638953)]"
            ]
          },
          "metadata": {},
          "execution_count": 5
        }
      ]
    },
    {
      "cell_type": "code",
      "source": [
        "import numpy as np\n",
        "Out=[]\n",
        "for i in range(6):\n",
        "  dist=[]\n",
        "  for j in range(6):\n",
        "    d=(GD(city[i],city[j]).miles)\n",
        "    dist.append(d)\n",
        "  Out.append(dist)\n",
        "# Creating NumPy array\n",
        "arr = np.array(Out)\n",
        "\n",
        "# Reshaping array to n x m matrix\n",
        "res = arr.reshape(6, 6)\n",
        "\n",
        "# printing result\n",
        "print(\"Constructed Matrix : \\n\" + str(res))"
      ],
      "metadata": {
        "colab": {
          "base_uri": "https://localhost:8080/"
        },
        "id": "P_PjTVb9qDIa",
        "outputId": "37c42425-3659-4762-e85e-5fdcf6fd0ac1"
      },
      "execution_count": 6,
      "outputs": [
        {
          "output_type": "stream",
          "name": "stdout",
          "text": [
            "Constructed Matrix : \n",
            "[[   0.          426.91130742  351.63117602  385.27630868  519.1781416\n",
            "   604.01161607]\n",
            " [ 426.91130742    0.           86.95465885   74.18357141  271.82331855\n",
            "  1028.8584794 ]\n",
            " [ 351.63117602   86.95465885    0.          102.55989455  324.55234375\n",
            "   955.61567144]\n",
            " [ 385.27630868   74.18357141  102.55989455    0.          222.02158791\n",
            "   980.04198216]\n",
            " [ 519.1781416   271.82331855  324.55234375  222.02158791    0.\n",
            "  1058.98946969]\n",
            " [ 604.01161607 1028.8584794   955.61567144  980.04198216 1058.98946969\n",
            "     0.        ]]\n"
          ]
        }
      ]
    },
    {
      "cell_type": "code",
      "source": [
        "Out"
      ],
      "metadata": {
        "colab": {
          "base_uri": "https://localhost:8080/"
        },
        "id": "2o6LhA9cqKM3",
        "outputId": "111bd6af-7eae-487f-d0cb-fa65be7c024a"
      },
      "execution_count": 7,
      "outputs": [
        {
          "output_type": "execute_result",
          "data": {
            "text/plain": [
              "[[0.0,\n",
              "  426.9113074164837,\n",
              "  351.63117601750474,\n",
              "  385.2763086761522,\n",
              "  519.1781416000524,\n",
              "  604.0116160731279],\n",
              " [426.9113074164837,\n",
              "  0.0,\n",
              "  86.95465884996,\n",
              "  74.1835714099585,\n",
              "  271.82331855241404,\n",
              "  1028.858479402171],\n",
              " [351.63117601750474,\n",
              "  86.95465884996,\n",
              "  0.0,\n",
              "  102.55989455322408,\n",
              "  324.5523437486846,\n",
              "  955.6156714446245],\n",
              " [385.2763086761522,\n",
              "  74.1835714099585,\n",
              "  102.55989455322408,\n",
              "  0.0,\n",
              "  222.02158790787772,\n",
              "  980.0419821624937],\n",
              " [519.1781416000524,\n",
              "  271.82331855241404,\n",
              "  324.5523437486846,\n",
              "  222.02158790787772,\n",
              "  0.0,\n",
              "  1058.9894696910126],\n",
              " [604.0116160731279,\n",
              "  1028.858479402171,\n",
              "  955.6156714446245,\n",
              "  980.0419821624937,\n",
              "  1058.9894696910126,\n",
              "  0.0]]"
            ]
          },
          "metadata": {},
          "execution_count": 7
        }
      ]
    },
    {
      "cell_type": "code",
      "source": [
        "import numpy as np"
      ],
      "metadata": {
        "id": "REzJfWftqKQc"
      },
      "execution_count": 8,
      "outputs": []
    },
    {
      "cell_type": "code",
      "source": [
        "cost=res\n",
        "print(cost)\n",
        "cost = cost.astype(np.int32)\n",
        "print(cost)"
      ],
      "metadata": {
        "colab": {
          "base_uri": "https://localhost:8080/"
        },
        "id": "7WlAXFX3qNIL",
        "outputId": "2a68ecd6-5be1-4ad2-9575-278c42763afc"
      },
      "execution_count": 9,
      "outputs": [
        {
          "output_type": "stream",
          "name": "stdout",
          "text": [
            "[[   0.          426.91130742  351.63117602  385.27630868  519.1781416\n",
            "   604.01161607]\n",
            " [ 426.91130742    0.           86.95465885   74.18357141  271.82331855\n",
            "  1028.8584794 ]\n",
            " [ 351.63117602   86.95465885    0.          102.55989455  324.55234375\n",
            "   955.61567144]\n",
            " [ 385.27630868   74.18357141  102.55989455    0.          222.02158791\n",
            "   980.04198216]\n",
            " [ 519.1781416   271.82331855  324.55234375  222.02158791    0.\n",
            "  1058.98946969]\n",
            " [ 604.01161607 1028.8584794   955.61567144  980.04198216 1058.98946969\n",
            "     0.        ]]\n",
            "[[   0  426  351  385  519  604]\n",
            " [ 426    0   86   74  271 1028]\n",
            " [ 351   86    0  102  324  955]\n",
            " [ 385   74  102    0  222  980]\n",
            " [ 519  271  324  222    0 1058]\n",
            " [ 604 1028  955  980 1058    0]]\n"
          ]
        }
      ]
    },
    {
      "cell_type": "code",
      "source": [
        "n=6"
      ],
      "metadata": {
        "id": "urlULJjCqNLd"
      },
      "execution_count": 10,
      "outputs": []
    },
    {
      "cell_type": "code",
      "source": [
        "edges = []\n",
        "print(edges)"
      ],
      "metadata": {
        "colab": {
          "base_uri": "https://localhost:8080/"
        },
        "id": "F9SSklhtqVtq",
        "outputId": "bd07d8e9-48bc-4d4f-8242-4a823a763ea7"
      },
      "execution_count": 11,
      "outputs": [
        {
          "output_type": "stream",
          "name": "stdout",
          "text": [
            "[]\n"
          ]
        }
      ]
    },
    {
      "cell_type": "code",
      "source": [
        "for i in range(n):\n",
        "    for j in range(n):\n",
        "        if i<j:\n",
        "            edges.append([i,j,cost[i][j]])\n",
        "print(edges)"
      ],
      "metadata": {
        "colab": {
          "base_uri": "https://localhost:8080/"
        },
        "id": "ixFi4w4lqVxK",
        "outputId": "dd0c6986-1158-4276-8428-ad2c6c2ea4e5"
      },
      "execution_count": 12,
      "outputs": [
        {
          "output_type": "stream",
          "name": "stdout",
          "text": [
            "[[0, 1, 426], [0, 2, 351], [0, 3, 385], [0, 4, 519], [0, 5, 604], [1, 2, 86], [1, 3, 74], [1, 4, 271], [1, 5, 1028], [2, 3, 102], [2, 4, 324], [2, 5, 955], [3, 4, 222], [3, 5, 980], [4, 5, 1058]]\n"
          ]
        }
      ]
    },
    {
      "cell_type": "code",
      "source": [
        "edges = np.array(edges)"
      ],
      "metadata": {
        "id": "zexb-BtiqV0u"
      },
      "execution_count": 13,
      "outputs": []
    },
    {
      "cell_type": "code",
      "source": [
        "edges = edges[edges[:,2].argsort()]"
      ],
      "metadata": {
        "id": "leeOvKMgqbDB"
      },
      "execution_count": 14,
      "outputs": []
    },
    {
      "cell_type": "code",
      "source": [
        "def findParent(u,parent):\n",
        "  if parent[u-1] == -1:\n",
        "    return u-1\n",
        "  return findParent(parent[u-1],parent)"
      ],
      "metadata": {
        "id": "b73JVEIiqbJS"
      },
      "execution_count": 15,
      "outputs": []
    },
    {
      "cell_type": "code",
      "source": [
        "def Union(u,v,parent):\n",
        "  parent[v-1] = u-1\n",
        "  return"
      ],
      "metadata": {
        "id": "SxnoOw-iqpIZ"
      },
      "execution_count": 16,
      "outputs": []
    },
    {
      "cell_type": "code",
      "source": [
        "t = np.array([[0]*3 for i in range(n-1)])\n",
        "t"
      ],
      "metadata": {
        "colab": {
          "base_uri": "https://localhost:8080/"
        },
        "id": "boTO7h9SquMx",
        "outputId": "1d6011e6-3e80-4238-bdb9-46eea2005602"
      },
      "execution_count": 17,
      "outputs": [
        {
          "output_type": "execute_result",
          "data": {
            "text/plain": [
              "array([[0, 0, 0],\n",
              "       [0, 0, 0],\n",
              "       [0, 0, 0],\n",
              "       [0, 0, 0],\n",
              "       [0, 0, 0]])"
            ]
          },
          "metadata": {},
          "execution_count": 17
        }
      ]
    },
    {
      "cell_type": "code",
      "source": [
        "parent = [-1]*n\n",
        "parent\n",
        "edges.shape"
      ],
      "metadata": {
        "colab": {
          "base_uri": "https://localhost:8080/"
        },
        "id": "lmgWDC8QquQL",
        "outputId": "5fc00ef4-98e9-432a-a14e-1413ced3f176"
      },
      "execution_count": 18,
      "outputs": [
        {
          "output_type": "execute_result",
          "data": {
            "text/plain": [
              "(15, 3)"
            ]
          },
          "metadata": {},
          "execution_count": 18
        }
      ]
    },
    {
      "cell_type": "code",
      "source": [
        "def Kruskal(E,n,t):\n",
        "  parent = [-1]*n\n",
        "  i = 0\n",
        "  j = -1 #traversing the edge matrix\n",
        "  mincost = 0\n",
        "  while (i < n-1) and (i < E.shape[0]):\n",
        "    j+=1\n",
        "    u = E[j][0]\n",
        "    v = E[j][1]\n",
        "    p = findParent(E[j][0],parent)\n",
        "    q = findParent(E[j][1],parent)\n",
        "\n",
        "    if p != q:\n",
        "      i+=1\n",
        "      t[i-1][0] = u\n",
        "      t[i-1][1] = v\n",
        "      t[i-1][2] = E[j][2]\n",
        "      mincost+=E[j][2]\n",
        "      Union(u,v,parent)\n",
        "\n",
        "  if i!=n-1:\n",
        "    print(\"No spanning tree\")\n",
        "  else:\n",
        "    print(\"Mincost : \",mincost)\n",
        "    print(t)\n",
        "Kruskal(edges,n,t)"
      ],
      "metadata": {
        "colab": {
          "base_uri": "https://localhost:8080/"
        },
        "id": "7WCWE66PqpL0",
        "outputId": "30503b11-c90c-45cf-cb89-6335531a265a"
      },
      "execution_count": 19,
      "outputs": [
        {
          "output_type": "stream",
          "name": "stdout",
          "text": [
            "Mincost :  1079\n",
            "[[  1   3  74]\n",
            " [  1   2  86]\n",
            " [  3   4 222]\n",
            " [  1   4 271]\n",
            " [  0   1 426]]\n"
          ]
        }
      ]
    }
  ]
}