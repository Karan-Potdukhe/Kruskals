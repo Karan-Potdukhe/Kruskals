{
  "nbformat": 4,
  "nbformat_minor": 0,
  "metadata": {
    "colab": {
      "provenance": []
    },
    "kernelspec": {
      "name": "python3",
      "display_name": "Python 3"
    },
    "language_info": {
      "name": "python"
    }
  },
  "cells": [
    {
      "cell_type": "code",
      "execution_count": 1,
      "metadata": {
        "id": "Hnpi7YIAjLoQ"
      },
      "outputs": [],
      "source": [
        "from geopy.geocoders import Nominatim\n",
        "from geopy.distance import geodesic as GD\n",
        "\n",
        "geolocator = Nominatim(user_agent=\"primsAlgo\")\n",
        "list=[\"Nagpur\",\"Mumbai\",\"Nashik\",\"Pune\",\"Goa\",\"Kolkata\",\"Bangalore\",\"Hyderabad\"]"
      ]
    },
    {
      "cell_type": "code",
      "source": [
        "city=[]\n",
        "latitude=[]\n",
        "longitude=[]\n",
        "for i in range(8):\n",
        "  location = geolocator.geocode(list[i])\n",
        "  latitude.append(location.latitude)\n",
        "  longitude.append(location.longitude)\n",
        "for j in range(8):\n",
        "  city.append((latitude[j], longitude[j]))"
      ],
      "metadata": {
        "id": "daTbZ85bjVPF"
      },
      "execution_count": 2,
      "outputs": []
    },
    {
      "cell_type": "code",
      "source": [
        "latitude"
      ],
      "metadata": {
        "colab": {
          "base_uri": "https://localhost:8080/"
        },
        "id": "SZ5yaEB6jVSl",
        "outputId": "59e79b59-031d-4ec6-971d-c4da990be5f6"
      },
      "execution_count": 3,
      "outputs": [
        {
          "output_type": "execute_result",
          "data": {
            "text/plain": [
              "[21.1498134,\n",
              " 18.9733536,\n",
              " 20.0112475,\n",
              " 18.521428,\n",
              " 15.3004543,\n",
              " 22.5726459,\n",
              " 12.9767936,\n",
              " 17.360589]"
            ]
          },
          "metadata": {},
          "execution_count": 3
        }
      ]
    },
    {
      "cell_type": "code",
      "source": [
        "longitude"
      ],
      "metadata": {
        "colab": {
          "base_uri": "https://localhost:8080/"
        },
        "id": "8dPowxkjjVV5",
        "outputId": "1a52d272-f00b-4d23-eca2-6cb9cbbefb9c"
      },
      "execution_count": 4,
      "outputs": [
        {
          "output_type": "execute_result",
          "data": {
            "text/plain": [
              "[79.0820556,\n",
              " 72.82810491917377,\n",
              " 73.7902364,\n",
              " 73.8544541,\n",
              " 74.0855134,\n",
              " 88.3638953,\n",
              " 77.590082,\n",
              " 78.4740613]"
            ]
          },
          "metadata": {},
          "execution_count": 4
        }
      ]
    },
    {
      "cell_type": "code",
      "source": [
        "city"
      ],
      "metadata": {
        "colab": {
          "base_uri": "https://localhost:8080/"
        },
        "id": "ZsCxbKxbjVZF",
        "outputId": "7f24d1f3-548c-4304-acc5-6749ff9f4ffa"
      },
      "execution_count": 5,
      "outputs": [
        {
          "output_type": "execute_result",
          "data": {
            "text/plain": [
              "[(21.1498134, 79.0820556),\n",
              " (18.9733536, 72.82810491917377),\n",
              " (20.0112475, 73.7902364),\n",
              " (18.521428, 73.8544541),\n",
              " (15.3004543, 74.0855134),\n",
              " (22.5726459, 88.3638953),\n",
              " (12.9767936, 77.590082),\n",
              " (17.360589, 78.4740613)]"
            ]
          },
          "metadata": {},
          "execution_count": 5
        }
      ]
    },
    {
      "cell_type": "code",
      "source": [
        "import numpy as np\n",
        "Out=[]\n",
        "for i in range(8):\n",
        "  dist=[]\n",
        "  for j in range(8):\n",
        "    d=(GD(city[i],city[j]).miles)\n",
        "    dist.append(d)\n",
        "  Out.append(dist)\n",
        "# Creating NumPy array\n",
        "arr = np.array(Out)\n",
        "\n",
        "# Reshaping array to n x m matrix\n",
        "res = arr.reshape(8, 8)\n",
        "\n",
        "# printing result\n",
        "print(\"Constructed Matrix : \\n\" + str(res))"
      ],
      "metadata": {
        "colab": {
          "base_uri": "https://localhost:8080/"
        },
        "id": "PGIBkQ1IjVcV",
        "outputId": "e3220ec3-64c4-428c-84bb-e4c5c9970a21"
      },
      "execution_count": 6,
      "outputs": [
        {
          "output_type": "stream",
          "name": "stdout",
          "text": [
            "Constructed Matrix : \n",
            "[[   0.          433.14254286  351.63117602  385.27630868  519.1781416\n",
            "   604.01161607  570.62258475  263.64143978]\n",
            " [ 433.14254286    0.           95.05472496   74.08556961  265.90267576\n",
            "  1034.62751918  519.8317633   387.37657718]\n",
            " [ 351.63117602   95.05472496    0.          102.55989455  324.55234375\n",
            "   955.61567144  545.37116796  357.02193638]\n",
            " [ 385.27630868   74.08556961  102.55989455    0.          222.02158791\n",
            "   980.04198216  455.15431843  314.39083762]\n",
            " [ 519.1781416   265.90267576  324.55234375  222.02158791    0.\n",
            "  1058.98946969  284.23565093  323.97593813]\n",
            " [ 604.01161607 1034.62751918  955.61567144  980.04198216 1058.98946969\n",
            "     0.          968.38565007  736.0410313 ]\n",
            " [ 570.62258475  519.8317633   545.37116796  455.15431843  284.23565093\n",
            "   968.38565007    0.          307.13124961]\n",
            " [ 263.64143978  387.37657718  357.02193638  314.39083762  323.97593813\n",
            "   736.0410313   307.13124961    0.        ]]\n"
          ]
        }
      ]
    },
    {
      "cell_type": "code",
      "source": [
        "Out"
      ],
      "metadata": {
        "colab": {
          "base_uri": "https://localhost:8080/"
        },
        "id": "xGL8ZvlQjpPz",
        "outputId": "13ac3fd2-f2b6-4e94-8937-5655ae1358f1"
      },
      "execution_count": 7,
      "outputs": [
        {
          "output_type": "execute_result",
          "data": {
            "text/plain": [
              "[[0.0,\n",
              "  433.1425428591388,\n",
              "  351.63117601750474,\n",
              "  385.2763086761522,\n",
              "  519.1781416000524,\n",
              "  604.0116160731279,\n",
              "  570.6225847450158,\n",
              "  263.641439782533],\n",
              " [433.1425428591388,\n",
              "  0.0,\n",
              "  95.05472496111854,\n",
              "  74.08556960975572,\n",
              "  265.90267575634203,\n",
              "  1034.6275191801828,\n",
              "  519.8317632993619,\n",
              "  387.3765771801249],\n",
              " [351.63117601750474,\n",
              "  95.05472496111854,\n",
              "  0.0,\n",
              "  102.55989455322408,\n",
              "  324.5523437486846,\n",
              "  955.6156714446245,\n",
              "  545.3711679580864,\n",
              "  357.0219363811122],\n",
              " [385.2763086761522,\n",
              "  74.08556960975572,\n",
              "  102.55989455322408,\n",
              "  0.0,\n",
              "  222.02158790787772,\n",
              "  980.0419821624937,\n",
              "  455.15431843362114,\n",
              "  314.39083762393216],\n",
              " [519.1781416000524,\n",
              "  265.90267575634203,\n",
              "  324.5523437486846,\n",
              "  222.02158790787772,\n",
              "  0.0,\n",
              "  1058.9894696910126,\n",
              "  284.235650931963,\n",
              "  323.9759381346695],\n",
              " [604.0116160731279,\n",
              "  1034.6275191801828,\n",
              "  955.6156714446245,\n",
              "  980.0419821624937,\n",
              "  1058.9894696910126,\n",
              "  0.0,\n",
              "  968.3856500652157,\n",
              "  736.0410313007617],\n",
              " [570.6225847450158,\n",
              "  519.8317632993619,\n",
              "  545.3711679580864,\n",
              "  455.15431843362114,\n",
              "  284.235650931963,\n",
              "  968.3856500652157,\n",
              "  0.0,\n",
              "  307.1312496070319],\n",
              " [263.641439782533,\n",
              "  387.3765771801249,\n",
              "  357.0219363811122,\n",
              "  314.39083762393216,\n",
              "  323.9759381346695,\n",
              "  736.0410313007617,\n",
              "  307.1312496070319,\n",
              "  0.0]]"
            ]
          },
          "metadata": {},
          "execution_count": 7
        }
      ]
    },
    {
      "cell_type": "code",
      "source": [
        "import numpy as np"
      ],
      "metadata": {
        "id": "77PeNodOjpTJ"
      },
      "execution_count": 8,
      "outputs": []
    },
    {
      "cell_type": "code",
      "source": [
        "cost=res\n",
        "print(cost)\n",
        "cost = cost.astype(np.int32)\n",
        "print(cost)"
      ],
      "metadata": {
        "colab": {
          "base_uri": "https://localhost:8080/"
        },
        "id": "Sw4eWGGOjpWJ",
        "outputId": "9e953a7e-5581-4030-bbe9-d08f23727cc0"
      },
      "execution_count": 9,
      "outputs": [
        {
          "output_type": "stream",
          "name": "stdout",
          "text": [
            "[[   0.          433.14254286  351.63117602  385.27630868  519.1781416\n",
            "   604.01161607  570.62258475  263.64143978]\n",
            " [ 433.14254286    0.           95.05472496   74.08556961  265.90267576\n",
            "  1034.62751918  519.8317633   387.37657718]\n",
            " [ 351.63117602   95.05472496    0.          102.55989455  324.55234375\n",
            "   955.61567144  545.37116796  357.02193638]\n",
            " [ 385.27630868   74.08556961  102.55989455    0.          222.02158791\n",
            "   980.04198216  455.15431843  314.39083762]\n",
            " [ 519.1781416   265.90267576  324.55234375  222.02158791    0.\n",
            "  1058.98946969  284.23565093  323.97593813]\n",
            " [ 604.01161607 1034.62751918  955.61567144  980.04198216 1058.98946969\n",
            "     0.          968.38565007  736.0410313 ]\n",
            " [ 570.62258475  519.8317633   545.37116796  455.15431843  284.23565093\n",
            "   968.38565007    0.          307.13124961]\n",
            " [ 263.64143978  387.37657718  357.02193638  314.39083762  323.97593813\n",
            "   736.0410313   307.13124961    0.        ]]\n",
            "[[   0  433  351  385  519  604  570  263]\n",
            " [ 433    0   95   74  265 1034  519  387]\n",
            " [ 351   95    0  102  324  955  545  357]\n",
            " [ 385   74  102    0  222  980  455  314]\n",
            " [ 519  265  324  222    0 1058  284  323]\n",
            " [ 604 1034  955  980 1058    0  968  736]\n",
            " [ 570  519  545  455  284  968    0  307]\n",
            " [ 263  387  357  314  323  736  307    0]]\n"
          ]
        }
      ]
    },
    {
      "cell_type": "code",
      "source": [
        "n=8"
      ],
      "metadata": {
        "id": "2YhYbYjhjpZc"
      },
      "execution_count": 10,
      "outputs": []
    },
    {
      "cell_type": "code",
      "source": [
        "edges = []\n",
        "print(edges)"
      ],
      "metadata": {
        "colab": {
          "base_uri": "https://localhost:8080/"
        },
        "id": "OrNKcAvxjpc3",
        "outputId": "f87591c9-1f5e-42a2-8a78-793215f89fca"
      },
      "execution_count": 11,
      "outputs": [
        {
          "output_type": "stream",
          "name": "stdout",
          "text": [
            "[]\n"
          ]
        }
      ]
    },
    {
      "cell_type": "code",
      "source": [
        "for i in range(n):\n",
        "    for j in range(n):\n",
        "        if i<j:\n",
        "            edges.append([i,j,cost[i][j]])\n",
        "print(edges)"
      ],
      "metadata": {
        "colab": {
          "base_uri": "https://localhost:8080/"
        },
        "id": "1ZBKUMJVjpfv",
        "outputId": "32cd6ace-c175-4379-800b-62601ec165b3"
      },
      "execution_count": 12,
      "outputs": [
        {
          "output_type": "stream",
          "name": "stdout",
          "text": [
            "[[0, 1, 433], [0, 2, 351], [0, 3, 385], [0, 4, 519], [0, 5, 604], [0, 6, 570], [0, 7, 263], [1, 2, 95], [1, 3, 74], [1, 4, 265], [1, 5, 1034], [1, 6, 519], [1, 7, 387], [2, 3, 102], [2, 4, 324], [2, 5, 955], [2, 6, 545], [2, 7, 357], [3, 4, 222], [3, 5, 980], [3, 6, 455], [3, 7, 314], [4, 5, 1058], [4, 6, 284], [4, 7, 323], [5, 6, 968], [5, 7, 736], [6, 7, 307]]\n"
          ]
        }
      ]
    },
    {
      "cell_type": "code",
      "source": [
        "edges = np.array(edges)"
      ],
      "metadata": {
        "id": "QE5Rqhacj_Wk"
      },
      "execution_count": 13,
      "outputs": []
    },
    {
      "cell_type": "code",
      "source": [
        "edges = edges[edges[:,2].argsort()]"
      ],
      "metadata": {
        "id": "bq_PEicNj_aI"
      },
      "execution_count": 14,
      "outputs": []
    },
    {
      "cell_type": "code",
      "source": [
        "print(edges)"
      ],
      "metadata": {
        "colab": {
          "base_uri": "https://localhost:8080/"
        },
        "id": "jaekknqQj_df",
        "outputId": "0cc92de7-f752-408d-cc7b-b8b61159a4ef"
      },
      "execution_count": 15,
      "outputs": [
        {
          "output_type": "stream",
          "name": "stdout",
          "text": [
            "[[   1    3   74]\n",
            " [   1    2   95]\n",
            " [   2    3  102]\n",
            " [   3    4  222]\n",
            " [   0    7  263]\n",
            " [   1    4  265]\n",
            " [   4    6  284]\n",
            " [   6    7  307]\n",
            " [   3    7  314]\n",
            " [   4    7  323]\n",
            " [   2    4  324]\n",
            " [   0    2  351]\n",
            " [   2    7  357]\n",
            " [   0    3  385]\n",
            " [   1    7  387]\n",
            " [   0    1  433]\n",
            " [   3    6  455]\n",
            " [   1    6  519]\n",
            " [   0    4  519]\n",
            " [   2    6  545]\n",
            " [   0    6  570]\n",
            " [   0    5  604]\n",
            " [   5    7  736]\n",
            " [   2    5  955]\n",
            " [   5    6  968]\n",
            " [   3    5  980]\n",
            " [   1    5 1034]\n",
            " [   4    5 1058]]\n"
          ]
        }
      ]
    },
    {
      "cell_type": "code",
      "source": [
        "def findParent(u,parent):\n",
        "  if parent[u-1] == -1:\n",
        "    return u-1\n",
        "  return findParent(parent[u-1],parent)"
      ],
      "metadata": {
        "id": "nXrbTmJPjVfl"
      },
      "execution_count": 16,
      "outputs": []
    },
    {
      "cell_type": "code",
      "source": [
        "def Union(u,v,parent):\n",
        "  parent[v-1] = u-1\n",
        "  return"
      ],
      "metadata": {
        "id": "GXace7ZMkRYv"
      },
      "execution_count": 17,
      "outputs": []
    },
    {
      "cell_type": "code",
      "source": [
        "t = np.array([[0]*3 for i in range(n-1)])\n",
        "t"
      ],
      "metadata": {
        "colab": {
          "base_uri": "https://localhost:8080/"
        },
        "id": "oARQLB5kkRcm",
        "outputId": "20a9ab5b-611a-4a5f-8196-297a655ce1bf"
      },
      "execution_count": 18,
      "outputs": [
        {
          "output_type": "execute_result",
          "data": {
            "text/plain": [
              "array([[0, 0, 0],\n",
              "       [0, 0, 0],\n",
              "       [0, 0, 0],\n",
              "       [0, 0, 0],\n",
              "       [0, 0, 0],\n",
              "       [0, 0, 0],\n",
              "       [0, 0, 0]])"
            ]
          },
          "metadata": {},
          "execution_count": 18
        }
      ]
    },
    {
      "cell_type": "code",
      "source": [
        "parent = [-1]*n\n",
        "parent\n",
        "edges.shape"
      ],
      "metadata": {
        "colab": {
          "base_uri": "https://localhost:8080/"
        },
        "id": "tqcWVGD-kRgF",
        "outputId": "082f6d38-2f24-4362-c4a9-aac6105b8864"
      },
      "execution_count": 19,
      "outputs": [
        {
          "output_type": "execute_result",
          "data": {
            "text/plain": [
              "(28, 3)"
            ]
          },
          "metadata": {},
          "execution_count": 19
        }
      ]
    },
    {
      "cell_type": "code",
      "source": [
        "def Kruskal(E,n,t):\n",
        "  parent = [-1]*n\n",
        "  i = 0\n",
        "  j = -1 #traversing the edge matrix\n",
        "  mincost = 0\n",
        "  while (i < n-1) and (i < E.shape[0]):\n",
        "    j+=1\n",
        "    u = E[j][0]\n",
        "    v = E[j][1]\n",
        "    p = findParent(E[j][0],parent)\n",
        "    q = findParent(E[j][1],parent)\n",
        "\n",
        "    if p != q:\n",
        "      i+=1\n",
        "      t[i-1][0] = u\n",
        "      t[i-1][1] = v\n",
        "      t[i-1][2] = E[j][2]\n",
        "      mincost+=E[j][2]\n",
        "      Union(u,v,parent)\n",
        "\n",
        "  if i!=n-1:\n",
        "    print(\"No spanning tree\")\n",
        "  else:\n",
        "    print(\"Mincost : \",mincost)\n",
        "    print(t)\n",
        "Kruskal(edges,n,t)"
      ],
      "metadata": {
        "colab": {
          "base_uri": "https://localhost:8080/"
        },
        "id": "n5PgAW2ukRjk",
        "outputId": "7ef2c025-2b73-4c4e-a462-1e60684e129b"
      },
      "execution_count": 20,
      "outputs": [
        {
          "output_type": "stream",
          "name": "stdout",
          "text": [
            "Mincost :  1510\n",
            "[[  1   3  74]\n",
            " [  1   2  95]\n",
            " [  3   4 222]\n",
            " [  0   7 263]\n",
            " [  1   4 265]\n",
            " [  4   6 284]\n",
            " [  6   7 307]]\n"
          ]
        }
      ]
    }
  ]
}